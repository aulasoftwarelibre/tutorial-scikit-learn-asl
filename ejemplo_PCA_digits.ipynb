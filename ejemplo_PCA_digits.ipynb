{
 "cells": [
  {
   "cell_type": "code",
   "execution_count": null,
   "metadata": {},
   "outputs": [],
   "source": [
    "%matplotlib inline"
   ]
  },
  {
   "cell_type": "code",
   "execution_count": null,
   "metadata": {},
   "outputs": [],
   "source": [
    "# Taken from example in scikit-learn examples\n",
    "# Authors: Fabian Pedregosa <fabian.pedregosa@inria.fr>\n",
    "#          Olivier Grisel <olivier.grisel@ensta.org>\n",
    "#          Mathieu Blondel <mathieu@mblondel.org>\n",
    "#          Gael Varoquaux\n",
    "# License: BSD 3 clause (C) INRIA 2011\n",
    "\n",
    "import numpy as np\n",
    "import matplotlib.pyplot as plt\n",
    "from matplotlib import offsetbox\n",
    "from sklearn import datasets, decomposition\n",
    "\n",
    "\n",
    "def digits_plot():\n",
    "    digits = datasets.load_digits(n_class=6)\n",
    "    n_digits = 500\n",
    "    X = digits.data[:n_digits]\n",
    "    y = digits.target[:n_digits]\n",
    "    n_samples, n_features = X.shape\n",
    "\n",
    "    def plot_embedding(X, title=None):\n",
    "        x_min, x_max = np.min(X, 0), np.max(X, 0)\n",
    "        X = (X - x_min) / (x_max - x_min)\n",
    "\n",
    "        plt.figure()\n",
    "        ax = plt.subplot(111)\n",
    "        for i in range(X.shape[0]):\n",
    "            plt.text(X[i, 0], X[i, 1], str(digits.target[i]),\n",
    "                     color=plt.cm.Set1(y[i] / 10.),\n",
    "                     fontdict={'weight': 'bold', 'size': 9})\n",
    "\n",
    "        if hasattr(offsetbox, 'AnnotationBbox'):\n",
    "            # only print thumbnails with matplotlib > 1.0\n",
    "            shown_images = np.array([[1., 1.]])  # just something big\n",
    "            for i in range(X.shape[0]):\n",
    "                dist = np.sum((X[i] - shown_images) ** 2, 1)\n",
    "                if np.min(dist) < 1e5:\n",
    "                    # don't show points that are too close\n",
    "                    # set a high threshold to basically turn this off\n",
    "                    continue\n",
    "                shown_images = np.r_[shown_images, [X[i]]]\n",
    "                imagebox = offsetbox.AnnotationBbox(\n",
    "                    offsetbox.OffsetImage(digits.images[i], cmap=plt.cm.gray_r),\n",
    "                    X[i])\n",
    "                ax.add_artist(imagebox)\n",
    "        plt.xticks([]), plt.yticks([])\n",
    "        if title is not None:\n",
    "            plt.title(title)\n",
    "\n",
    "    n_img_per_row = 10\n",
    "    img = np.zeros((10 * n_img_per_row, 10 * n_img_per_row))\n",
    "    for i in range(n_img_per_row):\n",
    "        ix = 10 * i + 1\n",
    "        for j in range(n_img_per_row):\n",
    "            iy = 10 * j + 1\n",
    "            img[ix:ix + 8, iy:iy + 8] = X[i * n_img_per_row + j].reshape((8, 8))\n",
    "\n",
    "    plt.imshow(img, cmap=plt.cm.binary)\n",
    "    plt.xticks([])\n",
    "    plt.yticks([])\n",
    "    plt.title('Una seleccion de digitos del dataset')\n",
    "    print(\"Obteniendo la proyeccion PCA (Analisis de componentes principales)\")\n",
    "    pca = decomposition.PCA(n_components=2).fit(X)\n",
    "    X_pca = pca.transform(X)\n",
    "    plot_embedding(X_pca, \"Proyeccion de las dos componentes principales de los digitos\")\n",
    "    plt.show()\n",
    "    plt.imshow(pca.components_[0, :].reshape(8, 8), cmap=\"gray\")\n",
    "    plt.title(\"Primera componente principal\")\n",
    "    plt.axis('off')\n",
    "    plt.show()\n",
    "    plt.imshow(pca.components_[1, :].reshape(8, 8), cmap=\"gray\")\n",
    "    plt.title(\"Segunda componente principal\")\n",
    "    plt.axis('off')\n",
    "    plt.show()"
   ]
  },
  {
   "cell_type": "code",
   "execution_count": null,
   "metadata": {},
   "outputs": [],
   "source": [
    "digits_plot()"
   ]
  }
 ],
 "metadata": {
  "kernelspec": {
   "display_name": "Python 2",
   "language": "python",
   "name": "python2"
  },
  "language_info": {
   "codemirror_mode": {
    "name": "ipython",
    "version": 2
   },
   "file_extension": ".py",
   "mimetype": "text/x-python",
   "name": "python",
   "nbconvert_exporter": "python",
   "pygments_lexer": "ipython2",
   "version": "2.7.14"
  }
 },
 "nbformat": 4,
 "nbformat_minor": 2
}
