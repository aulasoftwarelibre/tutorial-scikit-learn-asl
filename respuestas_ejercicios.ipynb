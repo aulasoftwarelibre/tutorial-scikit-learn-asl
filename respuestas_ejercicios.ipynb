{
 "cells": [
  {
   "cell_type": "code",
   "execution_count": 1,
   "metadata": {},
   "outputs": [],
   "source": [
    "import pandas as pd\n",
    "import numpy as np\n",
    "import matplotlib.pyplot as plt\n",
    "\n",
    "from sklearn import neighbors\n",
    "from sklearn import preprocessing"
   ]
  },
  {
   "cell_type": "code",
   "execution_count": 3,
   "metadata": {},
   "outputs": [],
   "source": [
    "nombre_variables = ['longitud_sepalo', 'ancho_sepalo', 'longitud_petalo', 'ancho_petalo', 'clase']\n",
    "iris = pd.read_csv('data/iris.csv', names = nombre_variables)\n",
    "\n",
    "iris_array = iris.values"
   ]
  },
  {
   "cell_type": "markdown",
   "metadata": {},
   "source": [
    "**Ejercicio**: Prueba a imprimir la media y la desviación típica del **área del sépalo** de aquellas flores que son de tipo *virginica*."
   ]
  },
  {
   "cell_type": "code",
   "execution_count": 4,
   "metadata": {},
   "outputs": [
    {
     "name": "stdout",
     "output_type": "stream",
     "text": [
      "Nombres de las clases: ['Iris-setosa' 'Iris-versicolor' 'Iris-virginica']\n",
      "\n",
      "Área del sépalo\n",
      "\tMedia = 19.6846 \n",
      "\tDesv. tip. = 3.42402056653\n"
     ]
    }
   ],
   "source": [
    "# Mostramos los diferentes nombre de las clases\n",
    "print \"Nombres de las clases: {0}\\n\".format(np.unique(iris_array[:,-1]))\n",
    "\n",
    "# Guarda aquellos patrones que son de clase virgínica\n",
    "virginicas = iris_array[:, -1]=='Iris-virginica'\n",
    "\n",
    "# Calculamos el área del sépalo de las virginicas\n",
    "area_sepalo_virginicas = iris_array[virginicas,0] * iris_array[virginicas,1]\n",
    "\n",
    "# Mostramos la media y la desviación típica\n",
    "print \"Área del sépalo\\n\\tMedia = {0} \\n\\tDesv. tip. = {1}\".format(area_sepalo_virginicas.mean(), \n",
    "                                                                          area_sepalo_virginicas.std())"
   ]
  },
  {
   "cell_type": "code",
   "execution_count": 15,
   "metadata": {},
   "outputs": [],
   "source": [
    "from sklearn import preprocessing\n",
    "from sklearn.neighbors import KNeighborsClassifier\n",
    "from sklearn.linear_model import LogisticRegression\n",
    "\n",
    "# Lectura del fichero de datos para train y test\n",
    "train_df=pd.read_csv(\"data/optdigits.tra\", delimiter=',')\n",
    "train = train_df.values\n",
    "test_df=pd.read_csv(\"data/optdigits.tes\", delimiter=',')\n",
    "test=test_df.values\n",
    "\n",
    "# Separacion de las variables de entrada y salida\n",
    "train_outputs=train[:,-1]   #Salidas=ultima columna\n",
    "train_inputs=train[:,:-1]   #Entradas=todas la columnas menos la ultima\n",
    "\n",
    "test_ouputs=test[:,-1]\n",
    "test_inputs=test[:,:-1]\n",
    "\n",
    "#Creacion el objeto encargado de la normalizacion\n",
    "scaler=preprocessing.MinMaxScaler()\n",
    "\n",
    "#Normalizacion de los datos de entrada de train y test\n",
    "scaler.fit(train_inputs)\n",
    "train_inputs=scaler.transform(train_inputs)\n",
    "\n",
    "scaler.fit(test_inputs)\n",
    "test_inputs=scaler.transform(test_inputs)    "
   ]
  },
  {
   "cell_type": "code",
   "execution_count": 23,
   "metadata": {},
   "outputs": [
    {
     "name": "stdout",
     "output_type": "stream",
     "text": [
      "1 vecinos:\tCCR entrenamiento = 100.00% \tCCR test = 97.83%\n",
      "2 vecinos:\tCCR entrenamiento = 99.19% \tCCR test = 97.44%\n",
      "3 vecinos:\tCCR entrenamiento = 99.29% \tCCR test = 97.88%\n",
      "4 vecinos:\tCCR entrenamiento = 99.08% \tCCR test = 97.83%\n",
      "5 vecinos:\tCCR entrenamiento = 98.98% \tCCR test = 97.88%\n",
      "6 vecinos:\tCCR entrenamiento = 98.87% \tCCR test = 97.61%\n",
      "7 vecinos:\tCCR entrenamiento = 98.93% \tCCR test = 97.55%\n",
      "8 vecinos:\tCCR entrenamiento = 98.85% \tCCR test = 97.61%\n",
      "9 vecinos:\tCCR entrenamiento = 98.77% \tCCR test = 97.83%\n",
      "10 vecinos:\tCCR entrenamiento = 98.77% \tCCR test = 97.66%\n",
      "11 vecinos:\tCCR entrenamiento = 98.69% \tCCR test = 97.83%\n",
      "12 vecinos:\tCCR entrenamiento = 98.56% \tCCR test = 97.33%\n",
      "13 vecinos:\tCCR entrenamiento = 98.61% \tCCR test = 97.38%\n",
      "14 vecinos:\tCCR entrenamiento = 98.53% \tCCR test = 97.10%\n"
     ]
    }
   ],
   "source": [
    "#Creacion y evaluacion del clasificador KNeighborsClassifier\n",
    "for nn in range(1,15):\n",
    "    knn = KNeighborsClassifier(n_neighbors=nn)\n",
    "    knn.fit(train_inputs, train_outputs)\n",
    "    precisionTrain = knn.score(train_inputs, train_outputs)\n",
    "    precisionTest = knn.score(test_inputs, test_ouputs)\n",
    "    print \"{0} vecinos:\\tCCR entrenamiento = {1:.2f}% \\tCCR test = {2:.2f}%\".format(nn, precisionTrain*100, precisionTest*100)"
   ]
  },
  {
   "cell_type": "code",
   "execution_count": 22,
   "metadata": {},
   "outputs": [
    {
     "name": "stdout",
     "output_type": "stream",
     "text": [
      "C=1e-05\t\tCCR entrenamiento = 83.23% \tCCR test = 81.63%\n",
      "C=1e-04\t\tCCR entrenamiento = 88.02% \tCCR test = 86.80%\n",
      "C=1e-03\t\tCCR entrenamiento = 90.89% \tCCR test = 87.92%\n",
      "C=1e-02\t\tCCR entrenamiento = 93.88% \tCCR test = 91.31%\n",
      "C=1e-01\t\tCCR entrenamiento = 95.79% \tCCR test = 93.32%\n",
      "C=1e+00\t\tCCR entrenamiento = 97.33% \tCCR test = 94.10%\n",
      "C=1e+01\t\tCCR entrenamiento = 98.14% \tCCR test = 94.77%\n",
      "C=1e+02\t\tCCR entrenamiento = 98.64% \tCCR test = 94.60%\n",
      "C=1e+03\t\tCCR entrenamiento = 98.90% \tCCR test = 93.99%\n",
      "C=1e+04\t\tCCR entrenamiento = 98.93% \tCCR test = 93.49%\n"
     ]
    }
   ],
   "source": [
    "#Creacion y evaluacion del clasificador KNeighborsClassifier\n",
    "for potencia in range(-5,5):\n",
    "    log_reg = LogisticRegression(C=10**potencia)\n",
    "    log_reg.fit(train_inputs, train_outputs)\n",
    "    precisionTrain = log_reg.score(train_inputs, train_outputs)\n",
    "    precisionTest = log_reg.score(test_inputs, test_ouputs)\n",
    "    print \"C={0:.0e}\\t\\tCCR entrenamiento = {1:.2f}% \\tCCR test = {2:.2f}%\".format(10**potencia, precisionTrain*100, precisionTest*100)\n",
    "\n"
   ]
  },
  {
   "cell_type": "code",
   "execution_count": null,
   "metadata": {},
   "outputs": [],
   "source": []
  }
 ],
 "metadata": {
  "kernelspec": {
   "display_name": "Python 2",
   "language": "python",
   "name": "python2"
  },
  "language_info": {
   "codemirror_mode": {
    "name": "ipython",
    "version": 2
   },
   "file_extension": ".py",
   "mimetype": "text/x-python",
   "name": "python",
   "nbconvert_exporter": "python",
   "pygments_lexer": "ipython2",
   "version": "2.7.14"
  }
 },
 "nbformat": 4,
 "nbformat_minor": 2
}
